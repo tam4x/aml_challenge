{
  "cells": [
    {
      "cell_type": "markdown",
      "metadata": {
        "id": "ryW8Z4mY8Vvo"
      },
      "source": [
        "# **AML Challenge: Model Stitching**"
      ]
    },
    {
      "cell_type": "code",
      "execution_count": null,
      "metadata": {
        "id": "nzQFGDwg7wLL"
      },
      "outputs": [],
      "source": [
        "# @title\n",
        "from PIL import Image\n",
        "import os\n",
        "from urllib.request import urlopen\n",
        "import matplotlib.pyplot as plt\n",
        "\n",
        "import torch\n",
        "import torch.nn as nn\n",
        "from torchvision import transforms\n",
        "\n",
        "from sentence_transformers import SentenceTransformer, util\n",
        "from diffusers import AutoencoderKL\n",
        "\n",
        "device = torch.device(\"cuda\" if torch.cuda.is_available() else \"cpu\")"
      ]
    },
    {
      "cell_type": "markdown",
      "metadata": {
        "id": "v7zDBTpl9fbd"
      },
      "source": [
        "## **Downloading the Text Encoder**"
      ]
    },
    {
      "cell_type": "code",
      "execution_count": null,
      "metadata": {
        "id": "IJ3Fjmvr8e2c"
      },
      "outputs": [],
      "source": [
        "print(\"🫁 Downloading the model...\")\n",
        "text_encoder = SentenceTransformer(\"sentence-transformers/all-MiniLM-L6-v2\")"
      ]
    },
    {
      "cell_type": "markdown",
      "metadata": {
        "id": "bBZ2YVHn-Cl8"
      },
      "source": [
        "### **Demo for the Text Encoder:**"
      ]
    },
    {
      "cell_type": "code",
      "execution_count": null,
      "metadata": {
        "id": "lQ9EcikI-Ghn"
      },
      "outputs": [],
      "source": [
        "text = \"A cat is hiding under the table\"\n",
        "\n",
        "# We obtain the \"embedding vector\" using the encode() function:\n",
        "emb = text_encoder.encode(text, convert_to_tensor=True, show_progress_bar=False)\n",
        "\n",
        "# This is only for clarity:\n",
        "preview = emb.tolist()[:3] + [\"...\"] + emb.tolist()[-3:]\n",
        "print(f\"The embedding looks like this: {preview}\")\n",
        "\n",
        "# This is the shape of our embedding:\n",
        "print(f\"The shape of the embedding is: {emb.shape}\")"
      ]
    },
    {
      "cell_type": "markdown",
      "metadata": {
        "id": "CtIPGGaG9jl2"
      },
      "source": [
        "## **Downloading the VAE**"
      ]
    },
    {
      "cell_type": "code",
      "execution_count": null,
      "metadata": {
        "id": "wJSK2xPX9bu1"
      },
      "outputs": [],
      "source": [
        "print(\"🫁 Downloading VAE from Hugging Face...\")\n",
        "vae = AutoencoderKL.from_pretrained(\"stabilityai/sd-vae-ft-mse\").to(device)"
      ]
    },
    {
      "cell_type": "markdown",
      "metadata": {
        "id": "qe06iyg8-BXa"
      },
      "source": [
        "### **Demo for the VAE:**"
      ]
    },
    {
      "cell_type": "code",
      "execution_count": null,
      "metadata": {
        "id": "Qg060C8L_fVL"
      },
      "outputs": [],
      "source": [
        "IMG_URL = \"https://images.unsplash.com/photo-1574144611937-0df059b5ef3e?ixlib=rb-4.1.0&ixid=M3wxMjA3fDB8MHxwaG90by1wYWdlfHx8fGVufDB8fHx8fA%3D%3D&auto=format&fit=crop&q=80&w=764\"\n",
        "img = Image.open(urlopen(IMG_URL)).convert(\"RGB\")\n",
        "\n",
        "preprocess = transforms.Compose([\n",
        "    transforms.Resize((256, 256)), # --> keep this size fixed\n",
        "    # The VAE works also for 512x512, but it will require more compute\n",
        "    transforms.ToTensor(),\n",
        "    transforms.Normalize([0.5], [0.5])\n",
        "])\n",
        "img_tensor = preprocess(img).unsqueeze(0).to(device)\n",
        "\n",
        "\n",
        "# Encode --> latent\n",
        "with torch.no_grad():\n",
        "    latents = vae.encode(img_tensor).latent_dist.sample() * 0.18215\n",
        "print(\"Latent shape:\", latents.shape)\n",
        "\n",
        "# Decode --> reconstruct\n",
        "with torch.no_grad():\n",
        "    recon = vae.decode(latents / 0.18215).sample\n",
        "\n",
        "recon = (recon.clamp(-1, 1) + 1) / 2\n",
        "recon_img = transforms.ToPILImage()(recon.squeeze().cpu())"
      ]
    },
    {
      "cell_type": "code",
      "execution_count": null,
      "metadata": {
        "id": "p6rxjK5zCDAr"
      },
      "outputs": [],
      "source": [
        "# Visualize input vs output:\n",
        "fig, axes = plt.subplots(1, 2, figsize=(8, 4))\n",
        "axes[0].imshow(img.resize((256, 256)))\n",
        "axes[0].set_title(\"Original\")\n",
        "axes[0].axis(\"off\")\n",
        "\n",
        "axes[1].imshow(recon_img)\n",
        "axes[1].set_title(\"Reconstructed\")\n",
        "axes[1].axis(\"off\")\n",
        "\n",
        "plt.tight_layout()\n",
        "plt.show()"
      ]
    },
    {
      "cell_type": "markdown",
      "metadata": {
        "id": "FudgLTdoGa5H"
      },
      "source": [
        "#**Frankenstein Model:**"
      ]
    },
    {
      "cell_type": "code",
      "execution_count": null,
      "metadata": {
        "id": "KBkYpi5xGhoO"
      },
      "outputs": [],
      "source": [
        "class Translator(nn.Module):\n",
        "    \"\"\"\n",
        "    This will be the Translator Model you have to design for the challenge.\n",
        "    You have (almost) complete freedom on this. Your creativity will be rewarded.\n",
        "\n",
        "    Some ideas might be:\n",
        "    - Zero shot stitching (see https://arxiv.org/pdf/2209.15430)\n",
        "    - Linear, Affine, Orthognal solutions (see https://arxiv.org/pdf/2311.00664)\n",
        "    - Diffusion Priors (see https://arxiv.org/pdf/2204.06125)\n",
        "    - Flow Matching (see https://arxiv.org/pdf/2412.15213)\n",
        "    - CKA / Procrustes Analysis\n",
        "    - Adversarial Trainings\n",
        "    - AutoEncoding Solutions\n",
        "    \"\"\"\n",
        "\n",
        "    def __init__(self):\n",
        "        super().__init__()\n",
        "        # Here is where *you* come into play:\n",
        "        self.fc = nn.Linear(384, 4 * 32 * 32)\n",
        "        # This is the most trivial thing you can do (spoiler: it doesn't work)\n",
        "\n",
        "    def forward(self, x):\n",
        "        x = self.fc(x)\n",
        "        return x.view(1, 4, 32, 32)\n",
        "\n",
        "translator = Translator().to(device)\n",
        "translator.eval()"
      ]
    },
    {
      "cell_type": "code",
      "execution_count": null,
      "metadata": {
        "id": "YU_2vnkVGuNg"
      },
      "outputs": [],
      "source": [
        "# Part 1: encoding the text prompt\n",
        "text = \"Frankestein's Monster writing code on Google Colab\"\n",
        "print(f\"Prompt: {text}\")\n",
        "emb = text_encoder.encode(text, convert_to_tensor=True).to(device)\n",
        "print(\"Text embedding shape:\", emb.shape)\n",
        "\n",
        "# Part 2: translating the embedding\n",
        "with torch.no_grad():\n",
        "    latent = translator(emb)\n",
        "print(f\"Translated latent shape: {latent.shape}\\n\\n\")\n",
        "\n",
        "# Part 3: feed the VAE with the translation\n",
        "with torch.no_grad():\n",
        "    recon = vae.decode(latent / 0.18215).sample\n",
        "\n",
        "# Part 4: visualizing the output\n",
        "recon = (recon.clamp(-1, 1) + 1) / 2\n",
        "recon_img = transforms.ToPILImage()(recon.squeeze().cpu())\n",
        "\n",
        "plt.imshow(recon_img)\n",
        "plt.axis(\"off\")\n",
        "plt.show()"
      ]
    },
    {
      "cell_type": "markdown",
      "metadata": {
        "id": "0Oi_AfL8tbcw"
      },
      "source": [
        "## Baseline"
      ]
    },
    {
      "cell_type": "code",
      "execution_count": 2,
      "metadata": {
        "colab": {
          "base_uri": "https://localhost:8080/"
        },
        "id": "6XXzzq9AtaIl",
        "outputId": "65f2c68f-53ec-4f48-e522-61bb8efc2d2e"
      },
      "outputs": [
        {
          "output_type": "stream",
          "name": "stdout",
          "text": [
            "Cloning into 'challenge'...\n",
            "remote: Enumerating objects: 98, done.\u001b[K\n",
            "remote: Counting objects: 100% (98/98), done.\u001b[K\n",
            "remote: Compressing objects: 100% (69/69), done.\u001b[K\n",
            "remote: Total 98 (delta 39), reused 72 (delta 26), pack-reused 0 (from 0)\u001b[K\n",
            "Receiving objects: 100% (98/98), 21.03 MiB | 19.81 MiB/s, done.\n",
            "Resolving deltas: 100% (39/39), done.\n"
          ]
        }
      ],
      "source": [
        "#!mkdir data\n",
        "#!gdown 1CVAQDuPOiwm8h9LJ8a_oOs6zOWS6EgkB\n",
        "#!gdown 1ykZ9fjTxUwdiEwqagoYZiMcD5aG-7rHe\n",
        "#!unzip -o test.zip -d data\n",
        "#!unzip -o train.zip -d data\n",
        "\n",
        "!git clone https://github.com/Mamiglia/challenge.git"
      ]
    },
    {
      "cell_type": "code",
      "source": [
        "from google.colab import drive\n",
        "drive.mount('/content/drive')"
      ],
      "metadata": {
        "id": "SNSaH7PlsOjC",
        "outputId": "e64cecc9-b52f-488f-f2e6-1ef75631a770",
        "colab": {
          "base_uri": "https://localhost:8080/"
        }
      },
      "execution_count": 1,
      "outputs": [
        {
          "output_type": "stream",
          "name": "stdout",
          "text": [
            "Mounted at /content/drive\n"
          ]
        }
      ]
    },
    {
      "cell_type": "code",
      "execution_count": 3,
      "metadata": {
        "id": "kUZM092etlZw"
      },
      "outputs": [],
      "source": [
        "import torch\n",
        "import torch.nn as nn\n",
        "import torch.optim as optim\n",
        "import torch.nn.functional as F\n",
        "from torch.utils.data import DataLoader, TensorDataset\n",
        "from pathlib import Path\n",
        "from tqdm import tqdm\n",
        "\n",
        "from challenge.src.common import load_data, prepare_train_data, generate_submission"
      ]
    },
    {
      "cell_type": "code",
      "execution_count": 9,
      "metadata": {
        "id": "Cdo3IgdIsI-I"
      },
      "outputs": [],
      "source": [
        "# 1. Learning with a basic simple transformer\n",
        "# 2. Learning with a basic deep neural network\n",
        "# Configuration\n",
        "EPOCHS = 30\n",
        "BATCH_SIZE = 256\n",
        "LR = 0.001\n",
        "DEVICE = torch.device(\"cuda\" if torch.cuda.is_available() else \"cpu\")\n",
        "\n",
        "class TransformerTranslator(nn.Module):\n",
        "    \"\"\"\n",
        "    Transformer-style translator from text embedding -> image embedding.\n",
        "    Input: text_emb (batch, 1, text_dim) or (batch, text_dim)\n",
        "    Output: (batch, 1, img_dim)\n",
        "\n",
        "    Regularization: dropout in Transformer layers, LayerNorm, GELU activations,\n",
        "    residuals are intrinsic in TransformerEncoderLayer.\n",
        "    \"\"\"\n",
        "    def __init__(self,\n",
        "                 text_dim=1024,\n",
        "                 img_dim=1536,\n",
        "                 hidden_dim=2048,\n",
        "                 num_heads=8,\n",
        "                 num_layers=2,\n",
        "                 dropout=0.1):\n",
        "        super().__init__()\n",
        "        self.input_proj = nn.Linear(text_dim, hidden_dim)\n",
        "\n",
        "        encoder_layer = nn.TransformerEncoderLayer(\n",
        "            d_model=hidden_dim,\n",
        "            nhead=num_heads,\n",
        "            dim_feedforward=hidden_dim * 4,\n",
        "            dropout=dropout,\n",
        "            activation='gelu',\n",
        "            batch_first=True\n",
        "        )\n",
        "        # Stack\n",
        "        self.encoder = nn.TransformerEncoder(encoder_layer, num_layers=num_layers)\n",
        "\n",
        "        self.output_proj = nn.Linear(hidden_dim, img_dim)\n",
        "        self.output_ln = nn.LayerNorm(img_dim)\n",
        "        self.dropout = nn.Dropout(dropout)\n",
        "\n",
        "        # residual projection for input -> img_dim if desired (helps stabilise)\n",
        "        if text_dim != img_dim:\n",
        "            self.res_proj = nn.Linear(text_dim, img_dim)\n",
        "        else:\n",
        "            self.res_proj = nn.Identity()\n",
        "\n",
        "    def forward(self, text_emb):\n",
        "        x = self.input_proj(text_emb)\n",
        "\n",
        "        # Transformer encoder (with dropout inside layers)\n",
        "        x = self.encoder(x)\n",
        "\n",
        "        out = self.output_proj(x)\n",
        "        out = self.dropout(out)\n",
        "\n",
        "        # add residual (projected input) and final norm\n",
        "        res = self.res_proj(text_emb.squeeze(1) if text_emb.dim() == 3 else text_emb.squeeze(1))\n",
        "        out = out.squeeze(1) + res\n",
        "        return self.output_ln(out)\n",
        "\n",
        "class LatentSpaceTranslator(nn.Module):\n",
        "    \"\"\"\n",
        "    MLP translator from text embedding -> image embedding\n",
        "    Input: text_emb (batch, text_dim) or (batch, 1, text_dim)\n",
        "    Output: (batch, 1, img_dim)\n",
        "    Regularization: dropout, LayerNorm, GELU, residual (optional projector)\n",
        "    \"\"\"\n",
        "    def __init__(self,\n",
        "                 text_dim=1024,\n",
        "                 img_dim=1536,\n",
        "                 hidden_dim=2048,\n",
        "                 num_layers=3,\n",
        "                 dropout=0.2,\n",
        "                 use_residual=True):\n",
        "        super().__init__()\n",
        "        assert num_layers >= 2, \"num_layers should be >= 2 (including final proj)\"\n",
        "        self.use_residual = use_residual\n",
        "        self.input_ln = nn.LayerNorm(text_dim)\n",
        "        layers = []\n",
        "        in_dim = text_dim\n",
        "        for i in range(num_layers - 1):\n",
        "            layers.append(nn.Linear(in_dim, hidden_dim))\n",
        "            layers.append(nn.GELU())\n",
        "            layers.append(nn.LayerNorm(hidden_dim))\n",
        "            layers.append(nn.Dropout(dropout))\n",
        "            in_dim = hidden_dim\n",
        "        # final projection to image space\n",
        "        layers.append(nn.Linear(in_dim, img_dim))\n",
        "        self.net = nn.Sequential(*layers)\n",
        "\n",
        "        # if using residual, project input to img_dim to add it at the end\n",
        "        if self.use_residual:\n",
        "            if text_dim != img_dim:\n",
        "                self.res_proj = nn.Linear(text_dim, img_dim)\n",
        "            else:\n",
        "                self.res_proj = nn.Identity()\n",
        "\n",
        "        # final layer norm in image space\n",
        "        self.output_ln = nn.LayerNorm(img_dim)\n",
        "\n",
        "    def forward(self, text_emb):\n",
        "        if text_emb.dim() == 3:\n",
        "            x = text_emb.squeeze(1)\n",
        "        else:\n",
        "            x = text_emb\n",
        "        x = self.input_ln(x)\n",
        "        out = self.net(x)  # (B, img_dim)\n",
        "        if self.use_residual:\n",
        "            res = self.res_proj(x)\n",
        "            out = out + res\n",
        "        return self.output_ln(out)\n",
        "\n",
        "def training(model, train_loader, val_loader, device, epochs, lr, MODEL_PATH):\n",
        "    \"\"\"Train the model\"\"\"\n",
        "    optimizer = torch.optim.AdamW(model.parameters(), lr=lr, weight_decay=1e-4)\n",
        "\n",
        "    best_val_loss = float('inf')\n",
        "\n",
        "    for epoch in range(epochs):\n",
        "        # Training\n",
        "        model.train()\n",
        "        train_loss = 0\n",
        "        for X_batch, y_batch in tqdm(train_loader, desc=f\"Epoch {epoch+1}/{epochs}\"):\n",
        "            X_batch, y_batch = X_batch.to(device), y_batch.to(device)\n",
        "\n",
        "            optimizer.zero_grad()\n",
        "            outputs = model(X_batch)\n",
        "            #print(outputs.shape, y_batch.shape)\n",
        "            loss = F.mse_loss(outputs, y_batch)\n",
        "            loss += (1 - torch.cosine_similarity(outputs, y_batch)).mean()\n",
        "\n",
        "            loss.backward()\n",
        "            optimizer.step()\n",
        "\n",
        "            train_loss += loss.item()\n",
        "\n",
        "        train_loss /= len(train_loader)\n",
        "\n",
        "        # Validation\n",
        "        model.eval()\n",
        "        val_loss = 0\n",
        "        with torch.no_grad():\n",
        "            for X_batch, y_batch in val_loader:\n",
        "                X_batch, y_batch = X_batch.to(device), y_batch.to(device)\n",
        "                outputs = model(X_batch)\n",
        "                loss = F.mse_loss(outputs, y_batch)\n",
        "                loss += (1 - torch.cosine_similarity(outputs, y_batch)).mean()\n",
        "\n",
        "                val_loss += loss.item()\n",
        "\n",
        "        val_loss /= len(val_loader)\n",
        "\n",
        "        print(f\"Epoch {epoch+1}: Train Loss = {train_loss:.6f}, Val Loss = {val_loss:.6f}\")\n",
        "\n",
        "        # Save best model\n",
        "        if val_loss < best_val_loss:\n",
        "            best_val_loss = val_loss\n",
        "            Path(MODEL_PATH).parent.mkdir(parents=True, exist_ok=True)\n",
        "            torch.save(model.state_dict(), MODEL_PATH)\n",
        "            print(f\"  ✓ Saved best model (val_loss={val_loss:.6f})\")\n",
        "\n",
        "    return model\n"
      ]
    },
    {
      "cell_type": "code",
      "execution_count": 5,
      "metadata": {
        "colab": {
          "base_uri": "https://localhost:8080/"
        },
        "id": "wHgZaxy_twIO",
        "outputId": "e4749899-5ead-42b4-edb4-a9213f89fb59"
      },
      "outputs": [
        {
          "output_type": "stream",
          "name": "stdout",
          "text": [
            "(125000,)\n",
            "Train data: 125000 captions, 125000 images\n"
          ]
        },
        {
          "output_type": "execute_result",
          "data": {
            "text/plain": [
              "(torch.Size([112500, 1536]), torch.Size([112500, 1024]), 256, 256)"
            ]
          },
          "metadata": {},
          "execution_count": 5
        }
      ],
      "source": [
        "# Load data\n",
        "train_data = load_data(\"drive/MyDrive/data/train/train.npz\")\n",
        "X, y, label = prepare_train_data(train_data)\n",
        "DATASET_SIZE = len(X)\n",
        "# Split train/val\n",
        "# This is done only to measure generalization capabilities, you don't have to\n",
        "# use a validation set (though we encourage this)\n",
        "n_train = int(0.9 * len(X))\n",
        "TRAIN_SPLIT = torch.zeros(len(X), dtype=torch.bool)\n",
        "TRAIN_SPLIT[:n_train] = 1\n",
        "X_train, X_val = X[TRAIN_SPLIT], X[~TRAIN_SPLIT]\n",
        "y_train, y_val = y[TRAIN_SPLIT], y[~TRAIN_SPLIT]\n",
        "\n",
        "\n",
        "train_dataset = TensorDataset(X_train, y_train)\n",
        "val_dataset = TensorDataset(X_val, y_val)\n",
        "\n",
        "train_loader = DataLoader(train_dataset, batch_size=BATCH_SIZE, shuffle=True)\n",
        "val_loader = DataLoader(val_dataset, batch_size=BATCH_SIZE)\n",
        "y_train.shape, X_train.shape, train_loader.batch_size, val_loader.batch_size"
      ]
    },
    {
      "cell_type": "code",
      "execution_count": 12,
      "metadata": {
        "colab": {
          "base_uri": "https://localhost:8080/"
        },
        "id": "lE5CwJCFtzfB",
        "outputId": "e01fc2c1-1166-4513-f0e5-68fa6e4fb9bb"
      },
      "outputs": [
        {
          "output_type": "stream",
          "name": "stdout",
          "text": [
            "   Parameters: 15,230,976\n",
            "\n",
            "3. Training...\n"
          ]
        },
        {
          "output_type": "stream",
          "name": "stderr",
          "text": [
            "Epoch 1/30: 100%|██████████| 440/440 [00:06<00:00, 67.23it/s]\n"
          ]
        },
        {
          "output_type": "stream",
          "name": "stdout",
          "text": [
            "Epoch 1: Train Loss = 0.447638, Val Loss = 0.343316\n",
            "  ✓ Saved best model (val_loss=0.343316)\n"
          ]
        },
        {
          "output_type": "stream",
          "name": "stderr",
          "text": [
            "Epoch 2/30: 100%|██████████| 440/440 [00:06<00:00, 69.26it/s]\n"
          ]
        },
        {
          "output_type": "stream",
          "name": "stdout",
          "text": [
            "Epoch 2: Train Loss = 0.330446, Val Loss = 0.328287\n",
            "  ✓ Saved best model (val_loss=0.328287)\n"
          ]
        },
        {
          "output_type": "stream",
          "name": "stderr",
          "text": [
            "Epoch 3/30: 100%|██████████| 440/440 [00:06<00:00, 66.69it/s]\n"
          ]
        },
        {
          "output_type": "stream",
          "name": "stdout",
          "text": [
            "Epoch 3: Train Loss = 0.321411, Val Loss = 0.323971\n",
            "  ✓ Saved best model (val_loss=0.323971)\n"
          ]
        },
        {
          "output_type": "stream",
          "name": "stderr",
          "text": [
            "Epoch 4/30: 100%|██████████| 440/440 [00:06<00:00, 68.91it/s]\n"
          ]
        },
        {
          "output_type": "stream",
          "name": "stdout",
          "text": [
            "Epoch 4: Train Loss = 0.316363, Val Loss = 0.320240\n",
            "  ✓ Saved best model (val_loss=0.320240)\n"
          ]
        },
        {
          "output_type": "stream",
          "name": "stderr",
          "text": [
            "Epoch 5/30: 100%|██████████| 440/440 [00:07<00:00, 57.63it/s]\n"
          ]
        },
        {
          "output_type": "stream",
          "name": "stdout",
          "text": [
            "Epoch 5: Train Loss = 0.312585, Val Loss = 0.318634\n",
            "  ✓ Saved best model (val_loss=0.318634)\n"
          ]
        },
        {
          "output_type": "stream",
          "name": "stderr",
          "text": [
            "Epoch 6/30: 100%|██████████| 440/440 [00:06<00:00, 70.42it/s]\n"
          ]
        },
        {
          "output_type": "stream",
          "name": "stdout",
          "text": [
            "Epoch 6: Train Loss = 0.309473, Val Loss = 0.316465\n",
            "  ✓ Saved best model (val_loss=0.316465)\n"
          ]
        },
        {
          "output_type": "stream",
          "name": "stderr",
          "text": [
            "Epoch 7/30: 100%|██████████| 440/440 [00:06<00:00, 68.69it/s]\n"
          ]
        },
        {
          "output_type": "stream",
          "name": "stdout",
          "text": [
            "Epoch 7: Train Loss = 0.306730, Val Loss = 0.314420\n",
            "  ✓ Saved best model (val_loss=0.314420)\n"
          ]
        },
        {
          "output_type": "stream",
          "name": "stderr",
          "text": [
            "Epoch 8/30: 100%|██████████| 440/440 [00:06<00:00, 71.28it/s]\n"
          ]
        },
        {
          "output_type": "stream",
          "name": "stdout",
          "text": [
            "Epoch 8: Train Loss = 0.304359, Val Loss = 0.313190\n",
            "  ✓ Saved best model (val_loss=0.313190)\n"
          ]
        },
        {
          "output_type": "stream",
          "name": "stderr",
          "text": [
            "Epoch 9/30: 100%|██████████| 440/440 [00:06<00:00, 67.19it/s]\n"
          ]
        },
        {
          "output_type": "stream",
          "name": "stdout",
          "text": [
            "Epoch 9: Train Loss = 0.302102, Val Loss = 0.311977\n",
            "  ✓ Saved best model (val_loss=0.311977)\n"
          ]
        },
        {
          "output_type": "stream",
          "name": "stderr",
          "text": [
            "Epoch 10/30: 100%|██████████| 440/440 [00:06<00:00, 71.46it/s]\n"
          ]
        },
        {
          "output_type": "stream",
          "name": "stdout",
          "text": [
            "Epoch 10: Train Loss = 0.299927, Val Loss = 0.311047\n",
            "  ✓ Saved best model (val_loss=0.311047)\n"
          ]
        },
        {
          "output_type": "stream",
          "name": "stderr",
          "text": [
            "Epoch 11/30: 100%|██████████| 440/440 [00:06<00:00, 69.27it/s]\n"
          ]
        },
        {
          "output_type": "stream",
          "name": "stdout",
          "text": [
            "Epoch 11: Train Loss = 0.298040, Val Loss = 0.310390\n",
            "  ✓ Saved best model (val_loss=0.310390)\n"
          ]
        },
        {
          "output_type": "stream",
          "name": "stderr",
          "text": [
            "Epoch 12/30: 100%|██████████| 440/440 [00:06<00:00, 70.71it/s]\n"
          ]
        },
        {
          "output_type": "stream",
          "name": "stdout",
          "text": [
            "Epoch 12: Train Loss = 0.296226, Val Loss = 0.309218\n",
            "  ✓ Saved best model (val_loss=0.309218)\n"
          ]
        },
        {
          "output_type": "stream",
          "name": "stderr",
          "text": [
            "Epoch 13/30: 100%|██████████| 440/440 [00:06<00:00, 66.94it/s]\n"
          ]
        },
        {
          "output_type": "stream",
          "name": "stdout",
          "text": [
            "Epoch 13: Train Loss = 0.294642, Val Loss = 0.309083\n",
            "  ✓ Saved best model (val_loss=0.309083)\n"
          ]
        },
        {
          "output_type": "stream",
          "name": "stderr",
          "text": [
            "Epoch 14/30: 100%|██████████| 440/440 [00:06<00:00, 70.12it/s]\n"
          ]
        },
        {
          "output_type": "stream",
          "name": "stdout",
          "text": [
            "Epoch 14: Train Loss = 0.292901, Val Loss = 0.308957\n",
            "  ✓ Saved best model (val_loss=0.308957)\n"
          ]
        },
        {
          "output_type": "stream",
          "name": "stderr",
          "text": [
            "Epoch 15/30: 100%|██████████| 440/440 [00:06<00:00, 68.71it/s]\n"
          ]
        },
        {
          "output_type": "stream",
          "name": "stdout",
          "text": [
            "Epoch 15: Train Loss = 0.291586, Val Loss = 0.308608\n",
            "  ✓ Saved best model (val_loss=0.308608)\n"
          ]
        },
        {
          "output_type": "stream",
          "name": "stderr",
          "text": [
            "Epoch 16/30: 100%|██████████| 440/440 [00:06<00:00, 69.39it/s]\n"
          ]
        },
        {
          "output_type": "stream",
          "name": "stdout",
          "text": [
            "Epoch 16: Train Loss = 0.289999, Val Loss = 0.308358\n",
            "  ✓ Saved best model (val_loss=0.308358)\n"
          ]
        },
        {
          "output_type": "stream",
          "name": "stderr",
          "text": [
            "Epoch 17/30: 100%|██████████| 440/440 [00:06<00:00, 67.24it/s]\n"
          ]
        },
        {
          "output_type": "stream",
          "name": "stdout",
          "text": [
            "Epoch 17: Train Loss = 0.288672, Val Loss = 0.307907\n",
            "  ✓ Saved best model (val_loss=0.307907)\n"
          ]
        },
        {
          "output_type": "stream",
          "name": "stderr",
          "text": [
            "Epoch 18/30: 100%|██████████| 440/440 [00:06<00:00, 69.07it/s]\n"
          ]
        },
        {
          "output_type": "stream",
          "name": "stdout",
          "text": [
            "Epoch 18: Train Loss = 0.287309, Val Loss = 0.307720\n",
            "  ✓ Saved best model (val_loss=0.307720)\n"
          ]
        },
        {
          "output_type": "stream",
          "name": "stderr",
          "text": [
            "Epoch 19/30: 100%|██████████| 440/440 [00:06<00:00, 69.74it/s]\n"
          ]
        },
        {
          "output_type": "stream",
          "name": "stdout",
          "text": [
            "Epoch 19: Train Loss = 0.286271, Val Loss = 0.307525\n",
            "  ✓ Saved best model (val_loss=0.307525)\n"
          ]
        },
        {
          "output_type": "stream",
          "name": "stderr",
          "text": [
            "Epoch 20/30: 100%|██████████| 440/440 [00:06<00:00, 69.14it/s]\n"
          ]
        },
        {
          "output_type": "stream",
          "name": "stdout",
          "text": [
            "Epoch 20: Train Loss = 0.284926, Val Loss = 0.307313\n",
            "  ✓ Saved best model (val_loss=0.307313)\n"
          ]
        },
        {
          "output_type": "stream",
          "name": "stderr",
          "text": [
            "Epoch 21/30: 100%|██████████| 440/440 [00:06<00:00, 67.52it/s]\n"
          ]
        },
        {
          "output_type": "stream",
          "name": "stdout",
          "text": [
            "Epoch 21: Train Loss = 0.283904, Val Loss = 0.306909\n",
            "  ✓ Saved best model (val_loss=0.306909)\n"
          ]
        },
        {
          "output_type": "stream",
          "name": "stderr",
          "text": [
            "Epoch 22/30: 100%|██████████| 440/440 [00:06<00:00, 69.12it/s]\n"
          ]
        },
        {
          "output_type": "stream",
          "name": "stdout",
          "text": [
            "Epoch 22: Train Loss = 0.282826, Val Loss = 0.307207\n"
          ]
        },
        {
          "output_type": "stream",
          "name": "stderr",
          "text": [
            "Epoch 23/30: 100%|██████████| 440/440 [00:06<00:00, 70.68it/s]\n"
          ]
        },
        {
          "output_type": "stream",
          "name": "stdout",
          "text": [
            "Epoch 23: Train Loss = 0.281875, Val Loss = 0.306784\n",
            "  ✓ Saved best model (val_loss=0.306784)\n"
          ]
        },
        {
          "output_type": "stream",
          "name": "stderr",
          "text": [
            "Epoch 24/30: 100%|██████████| 440/440 [00:06<00:00, 66.28it/s]\n"
          ]
        },
        {
          "output_type": "stream",
          "name": "stdout",
          "text": [
            "Epoch 24: Train Loss = 0.281067, Val Loss = 0.307118\n"
          ]
        },
        {
          "output_type": "stream",
          "name": "stderr",
          "text": [
            "Epoch 25/30: 100%|██████████| 440/440 [00:06<00:00, 70.72it/s]\n"
          ]
        },
        {
          "output_type": "stream",
          "name": "stdout",
          "text": [
            "Epoch 25: Train Loss = 0.280026, Val Loss = 0.307346\n"
          ]
        },
        {
          "output_type": "stream",
          "name": "stderr",
          "text": [
            "Epoch 26/30: 100%|██████████| 440/440 [00:06<00:00, 68.86it/s]\n"
          ]
        },
        {
          "output_type": "stream",
          "name": "stdout",
          "text": [
            "Epoch 26: Train Loss = 0.279255, Val Loss = 0.306899\n"
          ]
        },
        {
          "output_type": "stream",
          "name": "stderr",
          "text": [
            "Epoch 27/30: 100%|██████████| 440/440 [00:06<00:00, 70.79it/s]\n"
          ]
        },
        {
          "output_type": "stream",
          "name": "stdout",
          "text": [
            "Epoch 27: Train Loss = 0.278390, Val Loss = 0.307286\n"
          ]
        },
        {
          "output_type": "stream",
          "name": "stderr",
          "text": [
            "Epoch 28/30: 100%|██████████| 440/440 [00:06<00:00, 66.79it/s]\n"
          ]
        },
        {
          "output_type": "stream",
          "name": "stdout",
          "text": [
            "Epoch 28: Train Loss = 0.277519, Val Loss = 0.307549\n"
          ]
        },
        {
          "output_type": "stream",
          "name": "stderr",
          "text": [
            "Epoch 29/30: 100%|██████████| 440/440 [00:06<00:00, 70.97it/s]\n"
          ]
        },
        {
          "output_type": "stream",
          "name": "stdout",
          "text": [
            "Epoch 29: Train Loss = 0.276702, Val Loss = 0.306949\n"
          ]
        },
        {
          "output_type": "stream",
          "name": "stderr",
          "text": [
            "Epoch 30/30: 100%|██████████| 440/440 [00:06<00:00, 68.70it/s]\n"
          ]
        },
        {
          "output_type": "stream",
          "name": "stdout",
          "text": [
            "Epoch 30: Train Loss = 0.275857, Val Loss = 0.306492\n",
            "  ✓ Saved best model (val_loss=0.306492)\n"
          ]
        },
        {
          "output_type": "execute_result",
          "data": {
            "text/plain": [
              "<All keys matched successfully>"
            ]
          },
          "metadata": {},
          "execution_count": 12
        }
      ],
      "source": [
        "arch = 'nn'\n",
        "if arch == 'transformer':\n",
        "    model = TransformerTranslator().to(DEVICE)\n",
        "    MODEL_PATH = \"models/crossattention.pth\"\n",
        "\n",
        "else:\n",
        "    model = LatentSpaceTranslator(dropout=0.5, num_layers=4).to(DEVICE)\n",
        "    MODEL_PATH = \"models/latent_space.pth\"\n",
        "\n",
        "print(f\"   Parameters: {sum(p.numel() for p in model.parameters()):,}\")\n",
        "\n",
        "# Train\n",
        "print(\"\\n3. Training...\")\n",
        "model = training(model, train_loader, val_loader, DEVICE, EPOCHS, LR, MODEL_PATH)\n",
        "\n",
        "# Load best model for evaluation\n",
        "model.load_state_dict(torch.load(MODEL_PATH))"
      ]
    },
    {
      "cell_type": "code",
      "execution_count": 13,
      "metadata": {
        "id": "o6uvjZJZt2PI",
        "outputId": "007f453c-3be7-4be5-8688-cea0b4f40e99",
        "colab": {
          "base_uri": "https://localhost:8080/",
          "height": 823
        }
      },
      "outputs": [
        {
          "output_type": "stream",
          "name": "stderr",
          "text": [
            "/content/challenge/src/eval/visualize.py:27: UserWarning: The use of `x.T` on tensors of dimension other than 2 to reverse their shape is deprecated and it will throw an error in a future release. Consider `x.mT` to transpose batches of matrices or `x.permute(*torch.arange(x.ndim - 1, -1, -1))` to reverse the dimensions of a tensor. (Triggered internally at /pytorch/aten/src/ATen/native/TensorShape.cpp:4421.)\n",
            "  similarities = (image_embeddings @ pred_embeddings.T).squeeze().numpy()\n"
          ]
        },
        {
          "output_type": "display_data",
          "data": {
            "text/plain": [
              "<Figure size 2000x400 with 6 Axes>"
            ],
            "image/png": "[encoded data removed]"
          },
          "metadata": {}
        },
        {
          "output_type": "display_data",
          "data": {
            "text/plain": [
              "<Figure size 2000x400 with 6 Axes>"
            ],
            "image/png": "[encoded data removed]"
          },
          "metadata": {}
        },
        {
          "output_type": "display_data",
          "data": {
            "text/plain": [
              "<Figure size 2000x400 with 6 Axes>"
            ],
            "image/png": "[encoded data removed]"
          },
          "metadata": {}
        },
        {
          "output_type": "display_data",
          "data": {
            "text/plain": [
              "<Figure size 2000x400 with 6 Axes>"
            ],
            "image/png": "[encoded data removed]"
          },
          "metadata": {}
        },
        {
          "output_type": "display_data",
          "data": {
            "text/plain": [
              "<Figure size 2000x400 with 6 Axes>"
            ],
            "image/png": "[encoded data removed]"
          },
          "metadata": {}
        }
      ],
      "source": [
        "from challenge.src.eval import visualize_retrieval\n",
        "import numpy as np\n",
        "import torch\n",
        "\n",
        "val_caption_text = train_data['captions/text'][~TRAIN_SPLIT]\n",
        "val_text_embd = X_val\n",
        "img_VAL_SPLIT = label[~TRAIN_SPLIT].sum(dim=0) > 0\n",
        "val_img_file = train_data['images/names'][img_VAL_SPLIT]\n",
        "val_img_embd = torch.from_numpy(train_data['images/embeddings'][img_VAL_SPLIT])\n",
        "val_label = np.nonzero(train_data['captions/label'][~TRAIN_SPLIT][:,img_VAL_SPLIT])[1]\n",
        "\n",
        "# Sample and visualize\n",
        "for i in range(5):\n",
        "    idx = np.random.randint(0, 100)\n",
        "    caption_embd = val_text_embd[idx]\n",
        "    caption_text = val_caption_text[idx]\n",
        "    gt_index = val_label[idx]\n",
        "\n",
        "    with torch.no_grad():\n",
        "        pred_embds = model(caption_embd.to(DEVICE)).cpu()\n",
        "\n",
        "        visualize_retrieval(\n",
        "            pred_embds,\n",
        "            gt_index,\n",
        "            val_img_file,\n",
        "            caption_text, val_img_embd, k=5)"
      ]
    },
    {
      "cell_type": "code",
      "execution_count": null,
      "metadata": {
        "id": "RkbJt1-AuCGh"
      },
      "outputs": [],
      "source": [
        "test_data = load_data(\"data/test/test.clean.npz\")\n",
        "\n",
        "test_embds = test_data['captions/embeddings']\n",
        "test_embds = torch.from_numpy(test_embds).float()\n",
        "\n",
        "with torch.no_grad():\n",
        "    pred_embds = model(test_embds.to(DEVICE)).cpu()\n",
        "\n",
        "submission = generate_submission(test_data['captions/ids'], pred_embds, 'submission.csv')\n",
        "print(f\"Model saved to: {MODEL_PATH}\")"
      ]
    }
  ],
  "metadata": {
    "colab": {
      "provenance": [],
      "gpuType": "T4"
    },
    "kernelspec": {
      "display_name": "Python 3",
      "name": "python3"
    },
    "language_info": {
      "codemirror_mode": {
        "name": "ipython",
        "version": 3
      },
      "file_extension": ".py",
      "mimetype": "text/x-python",
      "name": "python",
      "nbconvert_exporter": "python",
      "pygments_lexer": "ipython3",
      "version": "3.13.3"
    },
    "accelerator": "GPU"
  },
  "nbformat": 4,
  "nbformat_minor": 0
}